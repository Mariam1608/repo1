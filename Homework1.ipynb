{
 "cells": [
  {
   "cell_type": "code",
   "execution_count": 1,
   "metadata": {},
   "outputs": [
    {
     "name": "stdout",
     "output_type": "stream",
     "text": [
      "project: cake\n",
      "difficulty: 4\n"
     ]
    }
   ],
   "source": [
    "project='cake'\n",
    "print('project:',project)\n",
    "difficulty=4\n",
    "print('difficulty:',difficulty)"
   ]
  },
  {
   "cell_type": "code",
   "execution_count": 2,
   "metadata": {},
   "outputs": [
    {
     "name": "stdout",
     "output_type": "stream",
     "text": [
      "False\n",
      "True\n",
      "True\n",
      "False\n"
     ]
    }
   ],
   "source": [
    "ingredients=[\"flour\", \"butter\", \"sugar\", \"eggs\", \"cocoa powder\", \"baking powder\"]\n",
    "print(\"apples\" in ingredients)\n",
    "print(\"butter\" in ingredients)\n",
    "print((\"eggs\"in ingredients)or \"margarine\" in ingredients)\n",
    "print((\"eggs\"in ingredients)and\"margarine\"in ingredients)"
   ]
  },
  {
   "cell_type": "code",
   "execution_count": 3,
   "metadata": {},
   "outputs": [
    {
     "name": "stdout",
     "output_type": "stream",
     "text": [
      "flour- 175\n",
      "butter- 175\n",
      "sugar- 100g\n",
      "eggs- 2\n",
      "cocoa_powder- 1ts\n",
      "baking_powder- 0.5\n"
     ]
    }
   ],
   "source": [
    "flour=175\n",
    "print('flour-',flour)\n",
    "butter=175\n",
    "print('butter-',butter)\n",
    "sugar='100g'\n",
    "print('sugar-',sugar)\n",
    "eggs=2\n",
    "print('eggs-',eggs)\n",
    "cocoa_powder='1ts'\n",
    "print ('cocoa_powder-',cocoa_powder)\n",
    "baking_powder=0.5\n",
    "print('baking_powder-',baking_powder)"
   ]
  },
  {
   "cell_type": "code",
   "execution_count": 4,
   "metadata": {},
   "outputs": [
    {
     "name": "stdout",
     "output_type": "stream",
     "text": [
      "arajin artahaytutyan arjeqy= 1003.0\n",
      "erkrord artahaytutyan arjeqy= 852\n"
     ]
    }
   ],
   "source": [
    "a = 15\n",
    "b = 8\n",
    "c = 2  \n",
    "Arajin=(5*a**2-a*b+(a%2)-a/5)\n",
    "print('arajin artahaytutyan arjeqy=',Arajin)\n",
    "Erkrord=(b**3+3*a*b-10*c)\n",
    "print('erkrord artahaytutyan arjeqy=',Erkrord)"
   ]
  },
  {
   "cell_type": "code",
   "execution_count": 5,
   "metadata": {},
   "outputs": [
    {
     "name": "stdout",
     "output_type": "stream",
     "text": [
      "1998-08-16\n",
      "Year:  1998\n",
      "Month: 8\n",
      "Day: 16\n",
      "Day of the week: 7\n",
      "Days until my next birthday:  -7398 days, 0:00:00\n",
      "Here is the calendar:\n",
      "      May 2017\n",
      "Mo Tu We Th Fr Sa Su\n",
      " 1  2  3  4  5  6  7\n",
      " 8  9 10 11 12 13 14\n",
      "15 16 17 18 19 20 21\n",
      "22 23 24 25 26 27 28\n",
      "29 30 31\n",
      "\n",
      "Erekva amsativy : 2018-11-16\n",
      "Erekva amsatvin+2or: 2018-11-18\n",
      "Erekva amsatvic-3or: 2018-11-13\n"
     ]
    }
   ],
   "source": [
    "import datetime,time,calendar\n",
    "bday=datetime.date(1998, 8, 16)\n",
    "print (bday)\n",
    "print('Year: ', bday.year)\n",
    "print('Month:',bday.month)\n",
    "print('Day:',bday.day)\n",
    "print('Day of the week:', bday.isoweekday())\n",
    "tday=datetime.date.today()\n",
    "till_bday = bday - tday\n",
    "print(\"Days until my next birthday: \", till_bday)\n",
    "cal = calendar.month(2017, 5)\n",
    "print (\"Here is the calendar:\")\n",
    "print (cal)\n",
    "tdelta = datetime.timedelta(days = 1)\n",
    "print('Erekva amsativy :', tday - tdelta)\n",
    "tdelta1 = datetime.timedelta(days =2 )\n",
    "print('Erekva amsatvin+2or:',(tday-tdelta)+tdelta1)\n",
    "tdelta2=datetime.timedelta(days=3)\n",
    "print('Erekva amsatvic-3or:',(tday-tdelta)-tdelta2)\n"
   ]
  },
  {
   "cell_type": "code",
   "execution_count": 6,
   "metadata": {},
   "outputs": [
    {
     "name": "stdout",
     "output_type": "stream",
     "text": [
      "3 - odd\n",
      "5 - odd\n",
      "6 - even\n",
      "8 - even\n"
     ]
    }
   ],
   "source": [
    "a=3\n",
    "b=5\n",
    "c=6\n",
    "d=8\n",
    "if a % 2 == 0:\n",
    "    print (\"3 - even\")\n",
    "else:\n",
    "    print (\"3 - odd\")\n",
    "\n",
    "if b % 2 == 0:\n",
    "    print (\"5 - even\")\n",
    "else:\n",
    "    print (\"5 - odd\")\n",
    "\n",
    "if c % 2 == 0:\n",
    "    print (\"6 - even\")\n",
    "else:\n",
    "    print (\"6 - odd\")\n",
    "    \n",
    "if d % 2 == 0:\n",
    "    print (\"8 - even\")\n",
    "else:\n",
    "    print (\"8 - odd\")"
   ]
  },
  {
   "cell_type": "code",
   "execution_count": null,
   "metadata": {},
   "outputs": [],
   "source": []
  }
 ],
 "metadata": {
  "kernelspec": {
   "display_name": "Python 3",
   "language": "python",
   "name": "python3"
  },
  "language_info": {
   "codemirror_mode": {
    "name": "ipython",
    "version": 3
   },
   "file_extension": ".py",
   "mimetype": "text/x-python",
   "name": "python",
   "nbconvert_exporter": "python",
   "pygments_lexer": "ipython3",
   "version": "3.7.0"
  }
 },
 "nbformat": 4,
 "nbformat_minor": 2
}
